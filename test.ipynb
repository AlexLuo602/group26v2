{
 "cells": [
  {
   "cell_type": "markdown",
   "metadata": {},
   "source": [
    "# Predict Angina Chest Pain Type Based on Blood Pressure, Age, and Maximum Heart Rate"
   ]
  },
  {
   "cell_type": "markdown",
   "metadata": {},
   "source": [
    "## Introduction:\n",
    "\n",
    "Recently, with the fast development in healthcare systems, the public has started to insert more attention towards healthcare, especially heart disease, the second major cause of death. Therefore, we decided to build a model related to one particular heart disease, Angina.\n",
    "\n",
    "Angina is a heart disease that makes patients feel strong, squeezed chest pain. If the case is severe, hospitalization is required. Possible symptoms include dizziness, nausea, and/or shortness of breath. Furthermore, there are four types of angina:\n",
    "\n",
    "**Typical angina** consists of 3 main criteria: \n",
    "* It is a substernal chest discomfort or pain.\n",
    "* It is mainly caused from emotional stress or exertion.\n",
    "* Symptoms can be relieved from nitroglycerine or rest (or both).\n",
    "\n",
    "**Atypical angina** consists of 2 out of the 3 criteria found in a typical angina.\n",
    "\n",
    "**Non-anginal** chest pain has very similar symptoms to typical angina, but with a shorter period and doesn’t satisfy any of the 3 criteria of classic chest pain.\n",
    "\n",
    "**Asymptomatic chest pain** occurs when the patient shows no signs of common angina symptoms."
   ]
  },
  {
   "cell_type": "markdown",
   "metadata": {},
   "source": [
    "### Question:\n",
    "\n",
    "Given measurements of a patient’s resting blood pressure, age, and maximum heart rate, what type of chest pain would the patient be experiencing?\n",
    "\n"
   ]
  },
  {
   "cell_type": "markdown",
   "metadata": {},
   "source": [
    "### Dataset Used:\n",
    "\n",
    "We will use \"Heart Attack Analysis & Prediction Dataset\" to answer the question.\n",
    "\n",
    "https://www.kaggle.com/rashikrahmanpritom/heart-attack-analysis-prediction-dataset?select=heart.csv\n",
    "\n",
    "We chose this dataset because it is very inclusive, containing a few hundred different cases. Moreover, it also examines many different variables, such as resting blood pressure, cholesterol, age, etc. Variety in cases can boost the accuracy and conclusiveness of our prediction model. "
   ]
  },
  {
   "cell_type": "markdown",
   "metadata": {},
   "source": [
    "## Preliminary exploratory data analysis:"
   ]
  },
  {
   "cell_type": "markdown",
   "metadata": {},
   "source": [
    "#### Variables:\n",
    "1. age - age of patient\n",
    "2. sex - sex of patient\n",
    "3. cp - type of chest pain:\n",
    "    - 0 == asymptomatic\n",
    "    - 1 = typical angina\n",
    "    - 2 = atypical angina\n",
    "    - 3 = non-anginal pain\n",
    "4. trtbps - resting blood pressure (mm Hg) at time admitted to hospital\n",
    "5. chol - serum cholestoral (mg/dl)\n",
    "6. fbs - fasting blood sugar > 120 mg/dl (1 = true; 0 = false)\n",
    "7. restecg - resting electrocardiographic results\n",
    "    - 0 = hypertrophy\n",
    "    - 1 = normal\n",
    "    - 2 = having ST-T wave abnormality\n",
    "8. thalach - maximum heart rate achieved\n",
    "9. exang - exercise induced angina:\n",
    "    - 1 = yes\n",
    "    - 0 = no\n",
    "10. oldpeak - ST depression caused by rest relative to exercise\n",
    "11. slp - slope of peak exercise ST segment\n",
    "    - 0 = downsloping\n",
    "    - 1 = flat\n",
    "    - 2 = upslopting\n",
    "12. caa - # of flourosopy colored major vessels (0-3) \n",
    "13. thall:\n",
    "    - 1 = fixed defect\n",
    "    - 2 = normal\n",
    "    - 3 = reversable defect\n",
    "14. output - predicted attribute - diagnosis of heart disease (angiographic disease status):\n",
    "    - 0 = < diameter narrowing\n",
    "    - 1 = > 50% diameter narrowing)"
   ]
  },
  {
   "cell_type": "code",
   "execution_count": null,
   "metadata": {},
   "outputs": [],
   "source": [
    "# Running initial packages\n",
    "library(tidyverse)\n",
    "library(tidymodels)\n",
    "library(\"ggplot2\")\n",
    "library(\"GGally\")\n",
    "\n",
    "options(repr.matrix.max.rows = 6)"
   ]
  },
  {
   "cell_type": "code",
   "execution_count": null,
   "metadata": {},
   "outputs": [],
   "source": [
    "# Load training and test data\n",
    "url <- \"https://raw.githubusercontent.com/AlexLuo602/group26v2/main/heart.csv\"\n",
    "\n",
    "download.file(url, destfile = \"heart.csv\")\n",
    "\n",
    "heart_csv <- read_csv(\"heart.csv\")\n",
    "heart_csv"
   ]
  },
  {
   "cell_type": "code",
   "execution_count": null,
   "metadata": {},
   "outputs": [],
   "source": [
    "# load seed for reproducibility\n",
    "set.seed(1)\n",
    "\n",
    "# split data into training and testing sets\n",
    "select_heart_csv <- heart_csv %>%\n",
    "    mutate(chest.pain.type = as_factor(cp)) %>%\n",
    "    select(chest.pain.type, chol, trtbps, age, thalachh, oldpeak)\n",
    "\n",
    "heart_split <- initial_split(select_heart_csv, prop = 0.75, strata = chest.pain.type)\n",
    "heart_train <- training(heart_split)\n",
    "heart_test <- testing(heart_split)\n",
    "\n",
    "head(heart_train)\n",
    "head(heart_test)"
   ]
  },
  {
   "cell_type": "code",
   "execution_count": null,
   "metadata": {},
   "outputs": [],
   "source": [
    "separate_class <- select_heart_csv %>% \n",
    "    filter(chest.pain.type %in% c(1, 2, 3))\n",
    "\n",
    "convert_class <- separate_class %>% \n",
    "    mutate(chest.pain.type = 1)\n",
    "\n",
    "select_heart_csv <- select_heart_csv %>% \n",
    "    filter(chest.pain.type == 0)\n",
    "\n",
    "select_heart_csv <- rbind(select_heart_csv, convert_class)\n",
    "\n",
    "select_heart_csv %>% \n",
    "    group_by(chest.pain.type) %>% \n",
    "    summarize(count = n())\n",
    "\n",
    "heart_split <- initial_split(select_heart_csv, prop = 0.75, strata = chest.pain.type)\n",
    "heart_train <- training(heart_split)\n",
    "heart_test <- testing(heart_split)\n",
    "\n",
    "head(heart_train)\n",
    "head(heart_test)"
   ]
  },
  {
   "cell_type": "code",
   "execution_count": null,
   "metadata": {},
   "outputs": [],
   "source": [
    "# viewing distribution of potential predictors\n",
    "\n",
    "options(repr.plot.width = 10, repr.plot.height = 5)\n",
    "\n",
    "heart_dist_chol <- ggplot(heart_train, \n",
    "                      aes(x = chol, \n",
    "                          fill = as_factor(chest.pain.type))) +\n",
    "                          geom_histogram() +\n",
    "                          facet_grid(rows = vars(chest.pain.type)) +\n",
    "                          labs(x = \"Cholesterol (mg/dl)\", \n",
    "                               y = \"Count\", \n",
    "                               fill = \"Chest Pain Type\") +\n",
    "                          theme(text = element_text(size = 12))\n",
    "\n",
    "heart_dist_bps <- ggplot(heart_train, \n",
    "                      aes(x = trtbps, \n",
    "                          fill = as_factor(chest.pain.type))) +\n",
    "                          geom_histogram() +\n",
    "                          facet_grid(rows = vars(chest.pain.type)) +\n",
    "                          labs(x = \"Blood Pressure (mm Hg)\", \n",
    "                               y = \"Count\", \n",
    "                               fill = \"Chest Pain Type\") +\n",
    "                          theme(text = element_text(size = 12))\n",
    "\n",
    "heart_dist_age <- ggplot(heart_train, \n",
    "                      aes(x = age, \n",
    "                          fill = as_factor(chest.pain.type))) +\n",
    "                          geom_histogram() +\n",
    "                          facet_grid(rows = vars(chest.pain.type)) +\n",
    "                          labs(x = \"age\", \n",
    "                               y = \"Count\", \n",
    "                               fill = \"Chest Pain Type\") +\n",
    "                          theme(text = element_text(size = 12))\n",
    "\n",
    "heart_dist_max_heart_rate <- ggplot(heart_train, \n",
    "                      aes(x = thalachh, \n",
    "                          fill = as_factor(chest.pain.type))) +\n",
    "                          geom_histogram() +\n",
    "                          facet_grid(rows = vars(chest.pain.type)) +\n",
    "                          labs(x = \"Maximum Heart Rate (BPM)\", \n",
    "                               y = \"Count\", \n",
    "                               fill = \"Chest Pain Type\") +\n",
    "                          theme(text = element_text(size = 12))\n",
    "\n",
    "heart_dist_oldpeak <- ggplot(heart_train, \n",
    "                      aes(x = oldpeak, \n",
    "                          fill = as_factor(chest.pain.type))) +\n",
    "                          geom_histogram() +\n",
    "                          facet_grid(rows = vars(chest.pain.type)) +\n",
    "                          labs(x = \"Old Peak\", \n",
    "                               y = \"Count\", \n",
    "                               fill = \"Chest Pain Type\") +\n",
    "                          theme(text = element_text(size = 12))\n",
    "\n",
    "heart_dist_chol\n",
    "heart_dist_bps\n",
    "heart_dist_age\n",
    "heart_dist_max_heart_rate\n",
    "heart_dist_oldpeak"
   ]
  },
  {
   "cell_type": "markdown",
   "metadata": {},
   "source": [
    "Cholesterol and old peak seem to have the same distribution between chest pain types, so they wouldn't be strong predictors.\n",
    "\n",
    "The other 3 variables have better distributions, so we can try using them as predictors."
   ]
  },
  {
   "cell_type": "code",
   "execution_count": null,
   "metadata": {},
   "outputs": [],
   "source": [
    "# Created a plot with the standardized predictors in the axes and colored using chest pain type.\n",
    "\n",
    "options(repr.plot.width = 20, repr.plot.height = 10)\n",
    "\n",
    "heart_recipe <- recipe(chest.pain.type ~ ., data = heart_train) %>%\n",
    "    step_scale(all_predictors()) %>%\n",
    "    step_center(all_predictors()) %>%\n",
    "    prep() %>%\n",
    "    bake(heart_train)\n",
    "\n",
    "plot_trtbps_thalachh <- heart_recipe %>%\n",
    "ggplot(aes(x=trtbps, y= thalachh, colour= chest.pain.type))+\n",
    "    geom_point()+\n",
    "    labs(x= \"Blood Pressure (Standardized)\", y= \"Maximum Heart Rate (Standardized)\", \n",
    "         colour=\"chest pain type\")+\n",
    "    ggtitle(\"Using Blood Pressure & Maximum Heart Rate to predict chest pain type\")+\n",
    "    theme(text=element_text(size=20))\n",
    "\n",
    "\n",
    "\n",
    "plot_trtbps_age <- heart_recipe %>%\n",
    "ggplot(aes(x=trtbps, y= age, colour= chest.pain.type))+\n",
    "    geom_point()+\n",
    "    labs(x= \"Blood Pressure (Standardized)\", y= \"Age (Standardized)\", \n",
    "         colour=\"chest pain type\")+\n",
    "    ggtitle(\"Using Blood Pressure & Age to predict chest pain type\")+\n",
    "    theme(text=element_text(size=20))\n",
    "\n",
    "plot_thalachh_age <- heart_recipe %>%\n",
    "ggplot(aes(x=thalachh, y= age, colour= chest.pain.type))+\n",
    "    geom_point()+\n",
    "    labs(x= \"Maximum Heart Rate (Standardized)\", y= \"Age (Standardized)\", \n",
    "         colour=\"chest pain type\")+\n",
    "    ggtitle(\"Using Maximum Heart Rate & Age to predict chest pain type\")+\n",
    "    theme(text=element_text(size=20))\n",
    "\n",
    "plot_trtbps_thalachh\n",
    "\n",
    "plot_trtbps_age\n",
    "\n",
    "plot_thalachh_age\n",
    "\n",
    "# Since this model is not 100% accurate, if the symptoms continue to get worse, then a professional diagnosis at hospital is required. \n",
    "# This is only an unprofessional, first stepped analysis, therefore cannot be treated as final report."
   ]
  },
  {
   "cell_type": "code",
   "execution_count": null,
   "metadata": {},
   "outputs": [],
   "source": [
    "heart_plots <- ggpairs(heart_recipe, columns = 1:5, ggplot2::aes(colour=chest.pain.type))\n",
    "\n",
    "heart_plots\n",
    "\n",
    "# heart_recipe"
   ]
  },
  {
   "cell_type": "markdown",
   "metadata": {},
   "source": [
    "These distributions seem acceptable for the three plots, although they could be better. The green points (type 1) seemed to be clustered the most tightly, while the other three types were loosely scattered across the graph. This trend happens in each plot, meaning that our predictors have roughly the same strength.\n",
    "\n",
    "Therefore, we will be using these three variables as predictors, as there isn't an inferior one among them."
   ]
  },
  {
   "cell_type": "code",
   "execution_count": null,
   "metadata": {},
   "outputs": [],
   "source": [
    "# Summarize the number of observations in each class\n",
    "heart_observations <- heart_train %>%\n",
    "    group_by(chest.pain.type) %>% \n",
    "    summarize(count = n())\n",
    "\n",
    "heart_observations\n",
    "\n",
    "# There is an uneven distribution."
   ]
  },
  {
   "cell_type": "markdown",
   "metadata": {},
   "source": [
    "table 1: count of classes"
   ]
  },
  {
   "cell_type": "code",
   "execution_count": null,
   "metadata": {},
   "outputs": [],
   "source": [
    "# Summarize means of each predictor\n",
    "heart_means <- heart_train %>% \n",
    "    summarize(age_mean = mean(age), trtbps_mean = mean(trtbps), thalachh_mean = mean(thalachh))\n",
    "heart_means"
   ]
  },
  {
   "cell_type": "code",
   "execution_count": null,
   "metadata": {},
   "outputs": [],
   "source": [
    "# There doesn't appear to be any na values in this data set\n",
    "na_count <- heart_train %>%\n",
    "  map_df(~sum(is.na(.x)))\n",
    "\n",
    "na_count"
   ]
  },
  {
   "cell_type": "markdown",
   "metadata": {},
   "source": [
    "## Method & Results"
   ]
  },
  {
   "cell_type": "markdown",
   "metadata": {},
   "source": [
    "Based on the analysis above, we will be using blood pressure, maximum heart rate, and age as our 3 predictors.\n",
    "\n",
    "We will use **classification** as our method, with chest pain type as our target variable and the predictors mentioned above.\n",
    "\n",
    "Since there is an uneven distribution between chest pain types, we need to balance the predictors.\n",
    "\n",
    "Split our data into 75% training and 25% testing using the initial split function.\n",
    "\n",
    "Use cross validation to find optimal K by using tuning and vfold_cv on our training set.\n",
    "\n",
    "Finally, use our model to predict the classes for our testing set, and use metrics to determine accuracy of our model. \n",
    "\n",
    "We will visualize the results using a confusion matrix for our classifier and plotting it.\n"
   ]
  },
  {
   "cell_type": "markdown",
   "metadata": {},
   "source": [
    "## Code:"
   ]
  },
  {
   "cell_type": "markdown",
   "metadata": {},
   "source": [
    "Although balancing before cross-validation has some pitfalls, like data leakage, the classes are too imbalanced to not up_sample."
   ]
  },
  {
   "cell_type": "code",
   "execution_count": null,
   "metadata": {},
   "outputs": [],
   "source": [
    "# Balance class using step_upsample\n",
    "\n",
    "heart_train <- select(heart_train, chest.pain.type, age, oldpeak, thalachh)\n",
    "\n",
    "# heart_recipe <- recipe(chest.pain.type ~ ., data = heart_train) %>% \n",
    "#     themis::step_upsample(chest.pain.type, over_ratio = 1, skip = FALSE) %>% \n",
    "#     prep() %>% \n",
    "#     bake(heart_train)\n",
    "\n",
    "# recipe_data_set <- heart_recipe %>% \n",
    "#     group_by(chest.pain.type) %>% \n",
    "#     summarize(n = n())\n",
    "\n",
    "# recipe_data_set\n",
    "\n",
    "# dummy_recipe <- recipe(chest.pain.type ~ ., data = heart_recipe)\n",
    "\n",
    "dummy_recipe <- recipe(chest.pain.type ~ ., data = heart_train)\n",
    "\n",
    "dummy_recipe %>% \n",
    "    prep() %>% \n",
    "    bake(heart_train)"
   ]
  },
  {
   "cell_type": "code",
   "execution_count": null,
   "metadata": {},
   "outputs": [],
   "source": [
    "# Perform cross validation with 5 folds\n",
    "\n",
    "heart_vfold <- vfold_cv(heart_train, v = 5, strata = chest.pain.type)\n",
    "\n",
    "heart_tune <- nearest_neighbor(weight = \"rectangular\", neighbors = tune()) %>% \n",
    "    set_engine(\"kknn\") %>% \n",
    "    set_mode(\"classification\")"
   ]
  },
  {
   "cell_type": "markdown",
   "metadata": {},
   "source": [
    "Try a sequence of 50 neighbors"
   ]
  },
  {
   "cell_type": "code",
   "execution_count": null,
   "metadata": {},
   "outputs": [],
   "source": [
    "gridvals = tibble(neighbors = seq(from = 1, to = 50))\n",
    "\n",
    "vfold_results <- workflow() %>% \n",
    "    add_recipe(dummy_recipe) %>% \n",
    "    add_model(heart_tune) %>% \n",
    "    tune_grid(resamples = heart_vfold, grid = gridvals) %>% \n",
    "    collect_metrics()\n",
    "\n",
    "vfold_results\n",
    "\n"
   ]
  },
  {
   "cell_type": "code",
   "execution_count": null,
   "metadata": {},
   "outputs": [],
   "source": [
    "# plot \n",
    "\n",
    "accuracy <- vfold_results %>% \n",
    "    filter(.metric == \"accuracy\")\n",
    "\n",
    "vfold_plot <- ggplot(accuracy, aes(x = neighbors, y = mean)) +\n",
    "    geom_point() +\n",
    "    geom_line() +\n",
    "    labs(x = \"Neighbors\", y = \"Accuracy Estimate\") +\n",
    "    scale_x_continuous(breaks = seq(0, 50, by = 1)) +\n",
    "    ggtitle(\"Estimated Accuracy Versus Number of Neighbors\")\n",
    "\n",
    "vfold_plot"
   ]
  },
  {
   "cell_type": "markdown",
   "metadata": {},
   "source": [
    "Choose k = 44, as that gave the highest accuracy, and nearby k values don't differ by too much."
   ]
  },
  {
   "cell_type": "code",
   "execution_count": null,
   "metadata": {},
   "outputs": [],
   "source": [
    "heart_spec <- nearest_neighbor(weight_func = \"rectangular\", neighbors = 44) %>% \n",
    "    set_engine(\"kknn\") %>% \n",
    "    set_mode(\"classification\")\n",
    "\n",
    "heart_fit <- workflow() %>% \n",
    "    add_recipe(dummy_recipe) %>% \n",
    "    add_model(heart_spec) %>% \n",
    "    fit(data = heart_train)\n",
    "heart_fit"
   ]
  },
  {
   "cell_type": "code",
   "execution_count": null,
   "metadata": {},
   "outputs": [],
   "source": [
    "heart_test_predictions <- predict(heart_fit, heart_test) %>% \n",
    "    bind_cols(heart_test)\n",
    "\n",
    "heart_prediction_accuracy <- heart_test_predictions %>% \n",
    "    metrics(truth = chest.pain.type, estimate = .pred_class)\n",
    "\n",
    "heart_prediction_accuracy\n",
    "\n",
    "heart_test_predictions"
   ]
  },
  {
   "cell_type": "code",
   "execution_count": null,
   "metadata": {},
   "outputs": [],
   "source": [
    "heart_mat <- heart_test_predictions %>% \n",
    "    conf_mat(truth = chest.pain.type, estimate = .pred_class)\n",
    "\n",
    "heart_mat"
   ]
  },
  {
   "cell_type": "markdown",
   "metadata": {},
   "source": [
    "## Visualization of Results"
   ]
  },
  {
   "cell_type": "markdown",
   "metadata": {},
   "source": [
    "## Discussion:"
   ]
  },
  {
   "cell_type": "markdown",
   "metadata": {},
   "source": [
    "**Findings**\n",
    "\n",
    "\n",
    "\n",
    "**Expectations Versus Results**\n",
    "\n",
    "\n",
    "**Potential Impacts**\n",
    "\n",
    "Although official diagnosis should still be performed by a doctor, patients with mild chest pain can self-diagnose the type of chest pain they are experiencing and perform self-treatment.\n",
    "\n",
    "\n",
    "**Future Questions**\n",
    "\n",
    "How would adding more predictors change the accuracy of our model?\n",
    "\n",
    "Would our accuracy improve if we had more observations in our training set?\n"
   ]
  },
  {
   "cell_type": "markdown",
   "metadata": {},
   "source": [
    "## Include References!!!"
   ]
  }
 ],
 "metadata": {
  "kernelspec": {
   "display_name": "R",
   "language": "R",
   "name": "ir"
  },
  "language_info": {
   "codemirror_mode": "r",
   "file_extension": ".r",
   "mimetype": "text/x-r-source",
   "name": "R",
   "pygments_lexer": "r",
   "version": "4.0.0"
  }
 },
 "nbformat": 4,
 "nbformat_minor": 4
}
